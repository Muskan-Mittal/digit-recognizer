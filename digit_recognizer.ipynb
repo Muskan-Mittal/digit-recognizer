{
 "cells": [
  {
   "cell_type": "code",
   "execution_count": 0,
   "metadata": {
    "colab": {},
    "colab_type": "code",
    "id": "PEtEFFv0g23A"
   },
   "outputs": [],
   "source": [
    "import cv2\n",
    "import pandas as pd\n",
    "import numpy as np\n",
    "import matplotlib\n",
    "import matplotlib.pyplot as plt\n",
    "from sklearn.model_selection import train_test_split\n",
    "import keras\n",
    "from keras.layers import Conv2D, Dense, MaxPool2D, BatchNormalization, Flatten, Dropout, Activation\n",
    "from keras.models import Sequential\n",
    "from keras.utils import to_categorical\n",
    "from keras.callbacks import ModelCheckpoint, EarlyStopping"
   ]
  },
  {
   "cell_type": "code",
   "execution_count": 88,
   "metadata": {
    "colab": {
     "base_uri": "https://localhost:8080/",
     "height": 34
    },
    "colab_type": "code",
    "id": "ZvDr1jF4hJ-s",
    "outputId": "5cce3d24-8c5e-43c3-ed14-3c9d56b2747a"
   },
   "outputs": [
    {
     "data": {
      "text/plain": [
       "(42000, 785)"
      ]
     },
     "execution_count": 88,
     "metadata": {
      "tags": []
     },
     "output_type": "execute_result"
    }
   ],
   "source": [
    "#Load the training and test data\n",
    "df = pd.read_csv('dataset/train.csv')\n",
    "df_test = pd.read_csv('dataset/test.csv')\n",
    "df.shape"
   ]
  },
  {
   "cell_type": "code",
   "execution_count": 110,
   "metadata": {
    "colab": {
     "base_uri": "https://localhost:8080/",
     "height": 253
    },
    "colab_type": "code",
    "id": "OfiDoEbfiQ_j",
    "outputId": "504c933b-8b29-42af-bda0-6835cffabe03"
   },
   "outputs": [
    {
     "data": {
      "text/html": [
       "<div>\n",
       "<style scoped>\n",
       "    .dataframe tbody tr th:only-of-type {\n",
       "        vertical-align: middle;\n",
       "    }\n",
       "\n",
       "    .dataframe tbody tr th {\n",
       "        vertical-align: top;\n",
       "    }\n",
       "\n",
       "    .dataframe thead th {\n",
       "        text-align: right;\n",
       "    }\n",
       "</style>\n",
       "<table border=\"1\" class=\"dataframe\">\n",
       "  <thead>\n",
       "    <tr style=\"text-align: right;\">\n",
       "      <th></th>\n",
       "      <th>pixel0</th>\n",
       "      <th>pixel1</th>\n",
       "      <th>pixel2</th>\n",
       "      <th>pixel3</th>\n",
       "      <th>pixel4</th>\n",
       "      <th>pixel5</th>\n",
       "      <th>pixel6</th>\n",
       "      <th>pixel7</th>\n",
       "      <th>pixel8</th>\n",
       "      <th>pixel9</th>\n",
       "      <th>pixel10</th>\n",
       "      <th>pixel11</th>\n",
       "      <th>pixel12</th>\n",
       "      <th>pixel13</th>\n",
       "      <th>pixel14</th>\n",
       "      <th>pixel15</th>\n",
       "      <th>pixel16</th>\n",
       "      <th>pixel17</th>\n",
       "      <th>pixel18</th>\n",
       "      <th>pixel19</th>\n",
       "      <th>pixel20</th>\n",
       "      <th>pixel21</th>\n",
       "      <th>pixel22</th>\n",
       "      <th>pixel23</th>\n",
       "      <th>pixel24</th>\n",
       "      <th>pixel25</th>\n",
       "      <th>pixel26</th>\n",
       "      <th>pixel27</th>\n",
       "      <th>pixel28</th>\n",
       "      <th>pixel29</th>\n",
       "      <th>pixel30</th>\n",
       "      <th>pixel31</th>\n",
       "      <th>pixel32</th>\n",
       "      <th>pixel33</th>\n",
       "      <th>pixel34</th>\n",
       "      <th>pixel35</th>\n",
       "      <th>pixel36</th>\n",
       "      <th>pixel37</th>\n",
       "      <th>pixel38</th>\n",
       "      <th>pixel39</th>\n",
       "      <th>...</th>\n",
       "      <th>pixel744</th>\n",
       "      <th>pixel745</th>\n",
       "      <th>pixel746</th>\n",
       "      <th>pixel747</th>\n",
       "      <th>pixel748</th>\n",
       "      <th>pixel749</th>\n",
       "      <th>pixel750</th>\n",
       "      <th>pixel751</th>\n",
       "      <th>pixel752</th>\n",
       "      <th>pixel753</th>\n",
       "      <th>pixel754</th>\n",
       "      <th>pixel755</th>\n",
       "      <th>pixel756</th>\n",
       "      <th>pixel757</th>\n",
       "      <th>pixel758</th>\n",
       "      <th>pixel759</th>\n",
       "      <th>pixel760</th>\n",
       "      <th>pixel761</th>\n",
       "      <th>pixel762</th>\n",
       "      <th>pixel763</th>\n",
       "      <th>pixel764</th>\n",
       "      <th>pixel765</th>\n",
       "      <th>pixel766</th>\n",
       "      <th>pixel767</th>\n",
       "      <th>pixel768</th>\n",
       "      <th>pixel769</th>\n",
       "      <th>pixel770</th>\n",
       "      <th>pixel771</th>\n",
       "      <th>pixel772</th>\n",
       "      <th>pixel773</th>\n",
       "      <th>pixel774</th>\n",
       "      <th>pixel775</th>\n",
       "      <th>pixel776</th>\n",
       "      <th>pixel777</th>\n",
       "      <th>pixel778</th>\n",
       "      <th>pixel779</th>\n",
       "      <th>pixel780</th>\n",
       "      <th>pixel781</th>\n",
       "      <th>pixel782</th>\n",
       "      <th>pixel783</th>\n",
       "    </tr>\n",
       "  </thead>\n",
       "  <tbody>\n",
       "    <tr>\n",
       "      <th>0</th>\n",
       "      <td>0</td>\n",
       "      <td>0</td>\n",
       "      <td>0</td>\n",
       "      <td>0</td>\n",
       "      <td>0</td>\n",
       "      <td>0</td>\n",
       "      <td>0</td>\n",
       "      <td>0</td>\n",
       "      <td>0</td>\n",
       "      <td>0</td>\n",
       "      <td>0</td>\n",
       "      <td>0</td>\n",
       "      <td>0</td>\n",
       "      <td>0</td>\n",
       "      <td>0</td>\n",
       "      <td>0</td>\n",
       "      <td>0</td>\n",
       "      <td>0</td>\n",
       "      <td>0</td>\n",
       "      <td>0</td>\n",
       "      <td>0</td>\n",
       "      <td>0</td>\n",
       "      <td>0</td>\n",
       "      <td>0</td>\n",
       "      <td>0</td>\n",
       "      <td>0</td>\n",
       "      <td>0</td>\n",
       "      <td>0</td>\n",
       "      <td>0</td>\n",
       "      <td>0</td>\n",
       "      <td>0</td>\n",
       "      <td>0</td>\n",
       "      <td>0</td>\n",
       "      <td>0</td>\n",
       "      <td>0</td>\n",
       "      <td>0</td>\n",
       "      <td>0</td>\n",
       "      <td>0</td>\n",
       "      <td>0</td>\n",
       "      <td>0</td>\n",
       "      <td>...</td>\n",
       "      <td>0</td>\n",
       "      <td>0</td>\n",
       "      <td>0</td>\n",
       "      <td>0</td>\n",
       "      <td>0</td>\n",
       "      <td>0</td>\n",
       "      <td>0</td>\n",
       "      <td>0</td>\n",
       "      <td>0</td>\n",
       "      <td>0</td>\n",
       "      <td>0</td>\n",
       "      <td>0</td>\n",
       "      <td>0</td>\n",
       "      <td>0</td>\n",
       "      <td>0</td>\n",
       "      <td>0</td>\n",
       "      <td>0</td>\n",
       "      <td>0</td>\n",
       "      <td>0</td>\n",
       "      <td>0</td>\n",
       "      <td>0</td>\n",
       "      <td>0</td>\n",
       "      <td>0</td>\n",
       "      <td>0</td>\n",
       "      <td>0</td>\n",
       "      <td>0</td>\n",
       "      <td>0</td>\n",
       "      <td>0</td>\n",
       "      <td>0</td>\n",
       "      <td>0</td>\n",
       "      <td>0</td>\n",
       "      <td>0</td>\n",
       "      <td>0</td>\n",
       "      <td>0</td>\n",
       "      <td>0</td>\n",
       "      <td>0</td>\n",
       "      <td>0</td>\n",
       "      <td>0</td>\n",
       "      <td>0</td>\n",
       "      <td>0</td>\n",
       "    </tr>\n",
       "    <tr>\n",
       "      <th>1</th>\n",
       "      <td>0</td>\n",
       "      <td>0</td>\n",
       "      <td>0</td>\n",
       "      <td>0</td>\n",
       "      <td>0</td>\n",
       "      <td>0</td>\n",
       "      <td>0</td>\n",
       "      <td>0</td>\n",
       "      <td>0</td>\n",
       "      <td>0</td>\n",
       "      <td>0</td>\n",
       "      <td>0</td>\n",
       "      <td>0</td>\n",
       "      <td>0</td>\n",
       "      <td>0</td>\n",
       "      <td>0</td>\n",
       "      <td>0</td>\n",
       "      <td>0</td>\n",
       "      <td>0</td>\n",
       "      <td>0</td>\n",
       "      <td>0</td>\n",
       "      <td>0</td>\n",
       "      <td>0</td>\n",
       "      <td>0</td>\n",
       "      <td>0</td>\n",
       "      <td>0</td>\n",
       "      <td>0</td>\n",
       "      <td>0</td>\n",
       "      <td>0</td>\n",
       "      <td>0</td>\n",
       "      <td>0</td>\n",
       "      <td>0</td>\n",
       "      <td>0</td>\n",
       "      <td>0</td>\n",
       "      <td>0</td>\n",
       "      <td>0</td>\n",
       "      <td>0</td>\n",
       "      <td>0</td>\n",
       "      <td>0</td>\n",
       "      <td>0</td>\n",
       "      <td>...</td>\n",
       "      <td>0</td>\n",
       "      <td>0</td>\n",
       "      <td>0</td>\n",
       "      <td>0</td>\n",
       "      <td>0</td>\n",
       "      <td>0</td>\n",
       "      <td>0</td>\n",
       "      <td>0</td>\n",
       "      <td>0</td>\n",
       "      <td>0</td>\n",
       "      <td>0</td>\n",
       "      <td>0</td>\n",
       "      <td>0</td>\n",
       "      <td>0</td>\n",
       "      <td>0</td>\n",
       "      <td>0</td>\n",
       "      <td>0</td>\n",
       "      <td>0</td>\n",
       "      <td>0</td>\n",
       "      <td>0</td>\n",
       "      <td>0</td>\n",
       "      <td>0</td>\n",
       "      <td>0</td>\n",
       "      <td>0</td>\n",
       "      <td>0</td>\n",
       "      <td>0</td>\n",
       "      <td>0</td>\n",
       "      <td>0</td>\n",
       "      <td>0</td>\n",
       "      <td>0</td>\n",
       "      <td>0</td>\n",
       "      <td>0</td>\n",
       "      <td>0</td>\n",
       "      <td>0</td>\n",
       "      <td>0</td>\n",
       "      <td>0</td>\n",
       "      <td>0</td>\n",
       "      <td>0</td>\n",
       "      <td>0</td>\n",
       "      <td>0</td>\n",
       "    </tr>\n",
       "    <tr>\n",
       "      <th>2</th>\n",
       "      <td>0</td>\n",
       "      <td>0</td>\n",
       "      <td>0</td>\n",
       "      <td>0</td>\n",
       "      <td>0</td>\n",
       "      <td>0</td>\n",
       "      <td>0</td>\n",
       "      <td>0</td>\n",
       "      <td>0</td>\n",
       "      <td>0</td>\n",
       "      <td>0</td>\n",
       "      <td>0</td>\n",
       "      <td>0</td>\n",
       "      <td>0</td>\n",
       "      <td>0</td>\n",
       "      <td>0</td>\n",
       "      <td>0</td>\n",
       "      <td>0</td>\n",
       "      <td>0</td>\n",
       "      <td>0</td>\n",
       "      <td>0</td>\n",
       "      <td>0</td>\n",
       "      <td>0</td>\n",
       "      <td>0</td>\n",
       "      <td>0</td>\n",
       "      <td>0</td>\n",
       "      <td>0</td>\n",
       "      <td>0</td>\n",
       "      <td>0</td>\n",
       "      <td>0</td>\n",
       "      <td>0</td>\n",
       "      <td>0</td>\n",
       "      <td>0</td>\n",
       "      <td>0</td>\n",
       "      <td>0</td>\n",
       "      <td>0</td>\n",
       "      <td>0</td>\n",
       "      <td>0</td>\n",
       "      <td>0</td>\n",
       "      <td>0</td>\n",
       "      <td>...</td>\n",
       "      <td>0</td>\n",
       "      <td>0</td>\n",
       "      <td>0</td>\n",
       "      <td>0</td>\n",
       "      <td>0</td>\n",
       "      <td>0</td>\n",
       "      <td>0</td>\n",
       "      <td>0</td>\n",
       "      <td>0</td>\n",
       "      <td>0</td>\n",
       "      <td>0</td>\n",
       "      <td>0</td>\n",
       "      <td>0</td>\n",
       "      <td>0</td>\n",
       "      <td>0</td>\n",
       "      <td>0</td>\n",
       "      <td>0</td>\n",
       "      <td>0</td>\n",
       "      <td>0</td>\n",
       "      <td>0</td>\n",
       "      <td>0</td>\n",
       "      <td>0</td>\n",
       "      <td>0</td>\n",
       "      <td>0</td>\n",
       "      <td>0</td>\n",
       "      <td>0</td>\n",
       "      <td>0</td>\n",
       "      <td>0</td>\n",
       "      <td>0</td>\n",
       "      <td>0</td>\n",
       "      <td>0</td>\n",
       "      <td>0</td>\n",
       "      <td>0</td>\n",
       "      <td>0</td>\n",
       "      <td>0</td>\n",
       "      <td>0</td>\n",
       "      <td>0</td>\n",
       "      <td>0</td>\n",
       "      <td>0</td>\n",
       "      <td>0</td>\n",
       "    </tr>\n",
       "    <tr>\n",
       "      <th>3</th>\n",
       "      <td>0</td>\n",
       "      <td>0</td>\n",
       "      <td>0</td>\n",
       "      <td>0</td>\n",
       "      <td>0</td>\n",
       "      <td>0</td>\n",
       "      <td>0</td>\n",
       "      <td>0</td>\n",
       "      <td>0</td>\n",
       "      <td>0</td>\n",
       "      <td>0</td>\n",
       "      <td>0</td>\n",
       "      <td>0</td>\n",
       "      <td>0</td>\n",
       "      <td>0</td>\n",
       "      <td>0</td>\n",
       "      <td>0</td>\n",
       "      <td>0</td>\n",
       "      <td>0</td>\n",
       "      <td>0</td>\n",
       "      <td>0</td>\n",
       "      <td>0</td>\n",
       "      <td>0</td>\n",
       "      <td>0</td>\n",
       "      <td>0</td>\n",
       "      <td>0</td>\n",
       "      <td>0</td>\n",
       "      <td>0</td>\n",
       "      <td>0</td>\n",
       "      <td>0</td>\n",
       "      <td>0</td>\n",
       "      <td>0</td>\n",
       "      <td>0</td>\n",
       "      <td>0</td>\n",
       "      <td>0</td>\n",
       "      <td>0</td>\n",
       "      <td>0</td>\n",
       "      <td>0</td>\n",
       "      <td>0</td>\n",
       "      <td>0</td>\n",
       "      <td>...</td>\n",
       "      <td>0</td>\n",
       "      <td>0</td>\n",
       "      <td>0</td>\n",
       "      <td>0</td>\n",
       "      <td>0</td>\n",
       "      <td>0</td>\n",
       "      <td>0</td>\n",
       "      <td>0</td>\n",
       "      <td>0</td>\n",
       "      <td>0</td>\n",
       "      <td>0</td>\n",
       "      <td>0</td>\n",
       "      <td>0</td>\n",
       "      <td>0</td>\n",
       "      <td>0</td>\n",
       "      <td>0</td>\n",
       "      <td>0</td>\n",
       "      <td>0</td>\n",
       "      <td>0</td>\n",
       "      <td>0</td>\n",
       "      <td>0</td>\n",
       "      <td>0</td>\n",
       "      <td>0</td>\n",
       "      <td>0</td>\n",
       "      <td>0</td>\n",
       "      <td>0</td>\n",
       "      <td>0</td>\n",
       "      <td>0</td>\n",
       "      <td>0</td>\n",
       "      <td>0</td>\n",
       "      <td>0</td>\n",
       "      <td>0</td>\n",
       "      <td>0</td>\n",
       "      <td>0</td>\n",
       "      <td>0</td>\n",
       "      <td>0</td>\n",
       "      <td>0</td>\n",
       "      <td>0</td>\n",
       "      <td>0</td>\n",
       "      <td>0</td>\n",
       "    </tr>\n",
       "    <tr>\n",
       "      <th>4</th>\n",
       "      <td>0</td>\n",
       "      <td>0</td>\n",
       "      <td>0</td>\n",
       "      <td>0</td>\n",
       "      <td>0</td>\n",
       "      <td>0</td>\n",
       "      <td>0</td>\n",
       "      <td>0</td>\n",
       "      <td>0</td>\n",
       "      <td>0</td>\n",
       "      <td>0</td>\n",
       "      <td>0</td>\n",
       "      <td>0</td>\n",
       "      <td>0</td>\n",
       "      <td>0</td>\n",
       "      <td>0</td>\n",
       "      <td>0</td>\n",
       "      <td>0</td>\n",
       "      <td>0</td>\n",
       "      <td>0</td>\n",
       "      <td>0</td>\n",
       "      <td>0</td>\n",
       "      <td>0</td>\n",
       "      <td>0</td>\n",
       "      <td>0</td>\n",
       "      <td>0</td>\n",
       "      <td>0</td>\n",
       "      <td>0</td>\n",
       "      <td>0</td>\n",
       "      <td>0</td>\n",
       "      <td>0</td>\n",
       "      <td>0</td>\n",
       "      <td>0</td>\n",
       "      <td>0</td>\n",
       "      <td>0</td>\n",
       "      <td>0</td>\n",
       "      <td>0</td>\n",
       "      <td>0</td>\n",
       "      <td>0</td>\n",
       "      <td>0</td>\n",
       "      <td>...</td>\n",
       "      <td>0</td>\n",
       "      <td>0</td>\n",
       "      <td>0</td>\n",
       "      <td>0</td>\n",
       "      <td>0</td>\n",
       "      <td>0</td>\n",
       "      <td>0</td>\n",
       "      <td>0</td>\n",
       "      <td>0</td>\n",
       "      <td>0</td>\n",
       "      <td>0</td>\n",
       "      <td>0</td>\n",
       "      <td>0</td>\n",
       "      <td>0</td>\n",
       "      <td>0</td>\n",
       "      <td>0</td>\n",
       "      <td>0</td>\n",
       "      <td>0</td>\n",
       "      <td>0</td>\n",
       "      <td>0</td>\n",
       "      <td>0</td>\n",
       "      <td>0</td>\n",
       "      <td>0</td>\n",
       "      <td>0</td>\n",
       "      <td>0</td>\n",
       "      <td>0</td>\n",
       "      <td>0</td>\n",
       "      <td>0</td>\n",
       "      <td>0</td>\n",
       "      <td>0</td>\n",
       "      <td>0</td>\n",
       "      <td>0</td>\n",
       "      <td>0</td>\n",
       "      <td>0</td>\n",
       "      <td>0</td>\n",
       "      <td>0</td>\n",
       "      <td>0</td>\n",
       "      <td>0</td>\n",
       "      <td>0</td>\n",
       "      <td>0</td>\n",
       "    </tr>\n",
       "  </tbody>\n",
       "</table>\n",
       "<p>5 rows × 784 columns</p>\n",
       "</div>"
      ],
      "text/plain": [
       "   pixel0  pixel1  pixel2  pixel3  ...  pixel780  pixel781  pixel782  pixel783\n",
       "0       0       0       0       0  ...         0         0         0         0\n",
       "1       0       0       0       0  ...         0         0         0         0\n",
       "2       0       0       0       0  ...         0         0         0         0\n",
       "3       0       0       0       0  ...         0         0         0         0\n",
       "4       0       0       0       0  ...         0         0         0         0\n",
       "\n",
       "[5 rows x 784 columns]"
      ]
     },
     "execution_count": 110,
     "metadata": {
      "tags": []
     },
     "output_type": "execute_result"
    }
   ],
   "source": [
    "df_test.head()"
   ]
  },
  {
   "cell_type": "code",
   "execution_count": 0,
   "metadata": {
    "colab": {
     "base_uri": "https://localhost:8080/",
     "height": 204
    },
    "colab_type": "code",
    "id": "HXX8BUMbi9M_",
    "outputId": "70d09695-86b3-4ba8-b41e-8e8b228627ff"
   },
   "outputs": [
    {
     "data": {
      "text/plain": [
       "1    4684\n",
       "7    4401\n",
       "3    4351\n",
       "9    4188\n",
       "2    4177\n",
       "6    4137\n",
       "0    4132\n",
       "4    4072\n",
       "8    4063\n",
       "5    3795\n",
       "Name: label, dtype: int64"
      ]
     },
     "execution_count": 11,
     "metadata": {
      "tags": []
     },
     "output_type": "execute_result"
    }
   ],
   "source": [
    "# Convert dataframe to input(X_train) and output label(Y_train) format where input is the values of all the 28x28 pixels in all the images and output label is the actual digit the image represents.\n",
    "Y_train = df['label']\n",
    "X_train = df.drop(labels=['label'],axis=1)\n",
    "Y_train.value_counts()"
   ]
  },
  {
   "cell_type": "code",
   "execution_count": 0,
   "metadata": {
    "colab": {
     "base_uri": "https://localhost:8080/",
     "height": 34
    },
    "colab_type": "code",
    "id": "xNrbpen_kprk",
    "outputId": "c324be33-61ab-4e47-f1a2-26f4adc6330e"
   },
   "outputs": [
    {
     "data": {
      "text/plain": [
       "False"
      ]
     },
     "execution_count": 12,
     "metadata": {
      "tags": []
     },
     "output_type": "execute_result"
    }
   ],
   "source": [
    "#Check null values in the labels\n",
    "Y_train.isnull().values.any()"
   ]
  },
  {
   "cell_type": "code",
   "execution_count": 0,
   "metadata": {
    "colab": {
     "base_uri": "https://localhost:8080/",
     "height": 34
    },
    "colab_type": "code",
    "id": "p3twKv41lFGQ",
    "outputId": "f1e92fb7-de8b-4041-e894-e66fa12c0b82"
   },
   "outputs": [
    {
     "data": {
      "text/plain": [
       "False"
      ]
     },
     "execution_count": 13,
     "metadata": {
      "tags": []
     },
     "output_type": "execute_result"
    }
   ],
   "source": [
    "#Check null values in the pixel data\n",
    "X_train.isnull().values.any()"
   ]
  },
  {
   "cell_type": "code",
   "execution_count": 0,
   "metadata": {
    "colab": {},
    "colab_type": "code",
    "id": "JNdgYIXPnuC8"
   },
   "outputs": [],
   "source": [
    "#Normalise the data\n",
    "X_train = X_train/255\n",
    "df_test = df_test/255"
   ]
  },
  {
   "cell_type": "markdown",
   "metadata": {
    "colab_type": "text",
    "id": "ApW_DdJ8rj0S"
   },
   "source": [
    "The CNN Models converge faster on data in (0,1)."
   ]
  },
  {
   "cell_type": "code",
   "execution_count": 0,
   "metadata": {
    "colab": {},
    "colab_type": "code",
    "id": "XmQ7_pxLpSa_"
   },
   "outputs": [],
   "source": [
    "#Convert pixel data to 28x28x1 image\n",
    "X_train_reshape = X_train.values.reshape(-1,28,28,1)\n",
    "df_test = df_test.values.reshape(-1,28,28,1)"
   ]
  },
  {
   "cell_type": "markdown",
   "metadata": {
    "colab_type": "text",
    "id": "_Q31PmuRrSlh"
   },
   "source": [
    " The data of each image is given as 1D array of 784 values. This 1D array is converted to 3D greyscale image using reshape. The reshape function has first param as -1 as the number of rows are unknown. The dimension of each image is 28x28x1. The 1 represents number of channels in greyscale image. For RGB the number of channels is 3."
   ]
  },
  {
   "cell_type": "code",
   "execution_count": 0,
   "metadata": {
    "colab": {
     "base_uri": "https://localhost:8080/",
     "height": 51
    },
    "colab_type": "code",
    "id": "C3YcRzyFwYaR",
    "outputId": "719483d2-4cfc-41aa-8e99-0dfa9f79397c"
   },
   "outputs": [
    {
     "name": "stdout",
     "output_type": "stream",
     "text": [
      "(42000, 28, 28, 1)\n",
      "(28000, 28, 28, 1)\n"
     ]
    }
   ],
   "source": [
    "print(np.shape(X_train_reshape))\n",
    "print(np.shape(df_test))"
   ]
  },
  {
   "cell_type": "code",
   "execution_count": 0,
   "metadata": {
    "colab": {},
    "colab_type": "code",
    "id": "bgRFtiKK24N4"
   },
   "outputs": [],
   "source": [
    "#Convert categorical data to one hot encoding using keras\n",
    "Y_train = to_categorical(Y_train, num_classes=10)"
   ]
  },
  {
   "cell_type": "markdown",
   "metadata": {
    "colab_type": "text",
    "id": "CpEMIrj8rdIW"
   },
   "source": [
    "The digits 0-9 repesent categorical data. They are converted to one-hot-encoded vectors. This is done to achieve output in the form of probabilites for each class. The class with maximum probability is given as predicted output."
   ]
  },
  {
   "cell_type": "code",
   "execution_count": 0,
   "metadata": {
    "colab": {
     "base_uri": "https://localhost:8080/",
     "height": 34
    },
    "colab_type": "code",
    "id": "T8bh1Tn53TLQ",
    "outputId": "a9942ab5-b313-408e-cd0c-b4c4a4843397"
   },
   "outputs": [
    {
     "name": "stdout",
     "output_type": "stream",
     "text": [
      "[0. 1. 0. 0. 0. 0. 0. 0. 0. 0.]\n"
     ]
    }
   ],
   "source": [
    "print(Y_train[0])"
   ]
  },
  {
   "cell_type": "code",
   "execution_count": 0,
   "metadata": {
    "colab": {},
    "colab_type": "code",
    "id": "k1u719HwlO9I"
   },
   "outputs": [],
   "source": [
    "#Create test dataset from the training data\n",
    "X_train, X_test, Y_train, Y_test = train_test_split(X_train_reshape, Y_train, test_size=0.1, random_state=42)"
   ]
  },
  {
   "cell_type": "code",
   "execution_count": 0,
   "metadata": {
    "colab": {
     "base_uri": "https://localhost:8080/",
     "height": 85
    },
    "colab_type": "code",
    "id": "wNabgYG89LUy",
    "outputId": "6d2a7b3c-ad97-48f9-b416-2978cec5e7de"
   },
   "outputs": [
    {
     "name": "stdout",
     "output_type": "stream",
     "text": [
      "X_train shape: (37800, 28, 28, 1)\n",
      "X_test shape: (4200, 28, 28, 1)\n",
      "Y_train shape: (37800, 10)\n",
      "Y_test shape: (4200, 10)\n"
     ]
    }
   ],
   "source": [
    "print('X_train shape:', X_train.shape)\n",
    "print('X_test shape:', X_test.shape)\n",
    "print('Y_train shape:', Y_train.shape)\n",
    "print('Y_test shape:', Y_test.shape)"
   ]
  },
  {
   "cell_type": "markdown",
   "metadata": {
    "colab_type": "text",
    "id": "0tf5j1brtHps"
   },
   "source": [
    "**CNN Model**\n",
    "\n"
   ]
  },
  {
   "cell_type": "code",
   "execution_count": 0,
   "metadata": {
    "colab": {},
    "colab_type": "code",
    "id": "1Bedhd7k1pCH"
   },
   "outputs": [],
   "source": [
    "#CNN Model\n",
    "model = Sequential()\n",
    "model.add(Conv2D(32, kernel_size=3, activation='relu', input_shape=(28, 28, 1), padding='same'))\n",
    "model.add(Conv2D(64, kernel_size=3, activation='relu', padding='same'))\n",
    "model.add(MaxPool2D(pool_size=(2,2)))\n",
    "#model.add(Dropout(0.5))\n",
    "\n",
    "model.add(Conv2D(128, kernel_size=3, activation='relu', padding='same'))\n",
    "model.add(MaxPool2D(pool_size=(2,2)))\n",
    "#model.add(Dropout(0.5))\n",
    "model.add(Flatten())\n",
    "model.add(Dense(32, activation = \"relu\"))\n",
    "#model.add(Dropout(0.5))\n",
    "model.add(Dense(10, activation='softmax'))"
   ]
  },
  {
   "cell_type": "code",
   "execution_count": 0,
   "metadata": {
    "colab": {},
    "colab_type": "code",
    "id": "eBqMvJlD6mC3"
   },
   "outputs": [],
   "source": [
    "model.compile(optimizer='adam', loss='categorical_crossentropy', metrics=['accuracy'])"
   ]
  },
  {
   "cell_type": "code",
   "execution_count": 37,
   "metadata": {
    "colab": {
     "base_uri": "https://localhost:8080/",
     "height": 425
    },
    "colab_type": "code",
    "id": "cBs1bacS8POu",
    "outputId": "2fb5705b-7aa5-425d-cecd-0b4854d8977a"
   },
   "outputs": [
    {
     "name": "stdout",
     "output_type": "stream",
     "text": [
      "Model: \"sequential_2\"\n",
      "_________________________________________________________________\n",
      "Layer (type)                 Output Shape              Param #   \n",
      "=================================================================\n",
      "conv2d_4 (Conv2D)            (None, 28, 28, 32)        320       \n",
      "_________________________________________________________________\n",
      "conv2d_5 (Conv2D)            (None, 28, 28, 64)        18496     \n",
      "_________________________________________________________________\n",
      "max_pooling2d_3 (MaxPooling2 (None, 14, 14, 64)        0         \n",
      "_________________________________________________________________\n",
      "conv2d_6 (Conv2D)            (None, 14, 14, 128)       73856     \n",
      "_________________________________________________________________\n",
      "max_pooling2d_4 (MaxPooling2 (None, 7, 7, 128)         0         \n",
      "_________________________________________________________________\n",
      "flatten_2 (Flatten)          (None, 6272)              0         \n",
      "_________________________________________________________________\n",
      "dense_3 (Dense)              (None, 32)                200736    \n",
      "_________________________________________________________________\n",
      "dense_4 (Dense)              (None, 10)                330       \n",
      "=================================================================\n",
      "Total params: 293,738\n",
      "Trainable params: 293,738\n",
      "Non-trainable params: 0\n",
      "_________________________________________________________________\n"
     ]
    }
   ],
   "source": [
    "model.summary()"
   ]
  },
  {
   "cell_type": "markdown",
   "metadata": {
    "colab_type": "text",
    "id": "LrnNZVyG1NdY"
   },
   "source": [
    "Early stopping is used for the model. It enables us to specifiy more number of epoches for training but it stops training once the model doesn't improve further with a patience of a specified number of epoches.\n",
    "Model Checkpoints are used to save the model weights after each epoch if the val_loss is decreased."
   ]
  },
  {
   "cell_type": "code",
   "execution_count": 0,
   "metadata": {
    "colab": {},
    "colab_type": "code",
    "id": "X5tDGVXpS2T_"
   },
   "outputs": [],
   "source": [
    "# callbacks = [ModelCheckpoint('/content/drive/My Drive/Colab Notebooks/digit-recognizer/best.h5', monitor='val_loss', verbose=1, save_best_only=True, save_weights_only=False),\n",
    "#              EarlyStopping(patience=3, monitor='val_loss', verbose=1)]\n",
    "callbacks = [ModelCheckpoint('model/best.h5', monitor='val_loss', verbose=1, save_best_only=True, save_weights_only=False)]"
   ]
  },
  {
   "cell_type": "code",
   "execution_count": 0,
   "metadata": {
    "colab": {
     "base_uri": "https://localhost:8080/",
     "height": 1000
    },
    "colab_type": "code",
    "id": "EbZxTbKg8Rfn",
    "outputId": "79a0bb9a-e878-4981-dd1e-7fd5986aa836"
   },
   "outputs": [
    {
     "name": "stdout",
     "output_type": "stream",
     "text": [
      "Train on 34020 samples, validate on 3780 samples\n",
      "Epoch 1/30\n",
      "34020/34020 [==============================] - 6s 169us/step - loss: 0.0118 - acc: 0.9961 - val_loss: 0.0629 - val_acc: 0.9854\n",
      "\n",
      "Epoch 00001: val_loss improved from inf to 0.06292, saving model to /content/drive/My Drive/Colab Notebooks/digit-recognizer/best.h5\n",
      "Epoch 2/30\n",
      "34020/34020 [==============================] - 6s 170us/step - loss: 0.0097 - acc: 0.9971 - val_loss: 0.0632 - val_acc: 0.9862\n",
      "\n",
      "Epoch 00002: val_loss did not improve from 0.06292\n",
      "Epoch 3/30\n",
      "34020/34020 [==============================] - 6s 171us/step - loss: 0.0082 - acc: 0.9972 - val_loss: 0.0628 - val_acc: 0.9868\n",
      "\n",
      "Epoch 00003: val_loss improved from 0.06292 to 0.06277, saving model to /content/drive/My Drive/Colab Notebooks/digit-recognizer/best.h5\n",
      "Epoch 4/30\n",
      "34020/34020 [==============================] - 6s 168us/step - loss: 0.0082 - acc: 0.9971 - val_loss: 0.0627 - val_acc: 0.9868\n",
      "\n",
      "Epoch 00004: val_loss improved from 0.06277 to 0.06274, saving model to /content/drive/My Drive/Colab Notebooks/digit-recognizer/best.h5\n",
      "Epoch 5/30\n",
      "34020/34020 [==============================] - 6s 169us/step - loss: 0.0069 - acc: 0.9979 - val_loss: 0.0646 - val_acc: 0.9876\n",
      "\n",
      "Epoch 00005: val_loss did not improve from 0.06274\n",
      "Epoch 6/30\n",
      "34020/34020 [==============================] - 6s 169us/step - loss: 0.0074 - acc: 0.9976 - val_loss: 0.0639 - val_acc: 0.9873\n",
      "\n",
      "Epoch 00006: val_loss did not improve from 0.06274\n",
      "Epoch 7/30\n",
      "34020/34020 [==============================] - 6s 167us/step - loss: 0.0077 - acc: 0.9974 - val_loss: 0.0533 - val_acc: 0.9878\n",
      "\n",
      "Epoch 00007: val_loss improved from 0.06274 to 0.05327, saving model to /content/drive/My Drive/Colab Notebooks/digit-recognizer/best.h5\n",
      "Epoch 8/30\n",
      "34020/34020 [==============================] - 6s 169us/step - loss: 0.0036 - acc: 0.9991 - val_loss: 0.0687 - val_acc: 0.9884\n",
      "\n",
      "Epoch 00008: val_loss did not improve from 0.05327\n",
      "Epoch 9/30\n",
      "34020/34020 [==============================] - 6s 169us/step - loss: 0.0072 - acc: 0.9981 - val_loss: 0.0611 - val_acc: 0.9884\n",
      "\n",
      "Epoch 00009: val_loss did not improve from 0.05327\n",
      "Epoch 10/30\n",
      "34020/34020 [==============================] - 6s 169us/step - loss: 0.0048 - acc: 0.9987 - val_loss: 0.0661 - val_acc: 0.9878\n",
      "\n",
      "Epoch 00010: val_loss did not improve from 0.05327\n",
      "Epoch 11/30\n",
      "34020/34020 [==============================] - 6s 168us/step - loss: 0.0047 - acc: 0.9987 - val_loss: 0.0584 - val_acc: 0.9899\n",
      "\n",
      "Epoch 00011: val_loss did not improve from 0.05327\n",
      "Epoch 12/30\n",
      "34020/34020 [==============================] - 6s 169us/step - loss: 0.0033 - acc: 0.9991 - val_loss: 0.0739 - val_acc: 0.9897\n",
      "\n",
      "Epoch 00012: val_loss did not improve from 0.05327\n",
      "Epoch 13/30\n",
      "34020/34020 [==============================] - 6s 172us/step - loss: 0.0072 - acc: 0.9980 - val_loss: 0.0430 - val_acc: 0.9892\n",
      "\n",
      "Epoch 00013: val_loss improved from 0.05327 to 0.04296, saving model to /content/drive/My Drive/Colab Notebooks/digit-recognizer/best.h5\n",
      "Epoch 14/30\n",
      "34020/34020 [==============================] - 6s 173us/step - loss: 0.0046 - acc: 0.9986 - val_loss: 0.0629 - val_acc: 0.9884\n",
      "\n",
      "Epoch 00014: val_loss did not improve from 0.04296\n",
      "Epoch 15/30\n",
      "34020/34020 [==============================] - 6s 176us/step - loss: 0.0036 - acc: 0.9990 - val_loss: 0.0594 - val_acc: 0.9897\n",
      "\n",
      "Epoch 00015: val_loss did not improve from 0.04296\n",
      "Epoch 16/30\n",
      "34020/34020 [==============================] - 6s 171us/step - loss: 0.0035 - acc: 0.9990 - val_loss: 0.0621 - val_acc: 0.9881\n",
      "\n",
      "Epoch 00016: val_loss did not improve from 0.04296\n",
      "Epoch 17/30\n",
      "34020/34020 [==============================] - 6s 170us/step - loss: 0.0035 - acc: 0.9992 - val_loss: 0.0711 - val_acc: 0.9886\n",
      "\n",
      "Epoch 00017: val_loss did not improve from 0.04296\n",
      "Epoch 18/30\n",
      "34020/34020 [==============================] - 6s 171us/step - loss: 0.0055 - acc: 0.9985 - val_loss: 0.0587 - val_acc: 0.9897\n",
      "\n",
      "Epoch 00018: val_loss did not improve from 0.04296\n",
      "Epoch 19/30\n",
      "34020/34020 [==============================] - 6s 169us/step - loss: 0.0050 - acc: 0.9985 - val_loss: 0.0483 - val_acc: 0.9931\n",
      "\n",
      "Epoch 00019: val_loss did not improve from 0.04296\n",
      "Epoch 20/30\n",
      "34020/34020 [==============================] - 6s 168us/step - loss: 0.0045 - acc: 0.9985 - val_loss: 0.0813 - val_acc: 0.9870\n",
      "\n",
      "Epoch 00020: val_loss did not improve from 0.04296\n",
      "Epoch 21/30\n",
      "34020/34020 [==============================] - 6s 168us/step - loss: 0.0029 - acc: 0.9994 - val_loss: 0.0812 - val_acc: 0.9902\n",
      "\n",
      "Epoch 00021: val_loss did not improve from 0.04296\n",
      "Epoch 22/30\n",
      "34020/34020 [==============================] - 6s 168us/step - loss: 0.0044 - acc: 0.9989 - val_loss: 0.0604 - val_acc: 0.9907\n",
      "\n",
      "Epoch 00022: val_loss did not improve from 0.04296\n",
      "Epoch 23/30\n",
      "34020/34020 [==============================] - 6s 169us/step - loss: 0.0022 - acc: 0.9993 - val_loss: 0.0674 - val_acc: 0.9902\n",
      "\n",
      "Epoch 00023: val_loss did not improve from 0.04296\n",
      "Epoch 24/30\n",
      "34020/34020 [==============================] - 6s 170us/step - loss: 0.0045 - acc: 0.9990 - val_loss: 0.0848 - val_acc: 0.9894\n",
      "\n",
      "Epoch 00024: val_loss did not improve from 0.04296\n",
      "Epoch 25/30\n",
      "34020/34020 [==============================] - 6s 168us/step - loss: 0.0023 - acc: 0.9995 - val_loss: 0.1088 - val_acc: 0.9865\n",
      "\n",
      "Epoch 00025: val_loss did not improve from 0.04296\n",
      "Epoch 26/30\n",
      "34020/34020 [==============================] - 6s 170us/step - loss: 0.0050 - acc: 0.9989 - val_loss: 0.0879 - val_acc: 0.9907\n",
      "\n",
      "Epoch 00026: val_loss did not improve from 0.04296\n",
      "Epoch 27/30\n",
      "34020/34020 [==============================] - 6s 170us/step - loss: 0.0045 - acc: 0.9989 - val_loss: 0.0901 - val_acc: 0.9884\n",
      "\n",
      "Epoch 00027: val_loss did not improve from 0.04296\n",
      "Epoch 28/30\n",
      "34020/34020 [==============================] - 6s 169us/step - loss: 0.0029 - acc: 0.9993 - val_loss: 0.1148 - val_acc: 0.9862\n",
      "\n",
      "Epoch 00028: val_loss did not improve from 0.04296\n",
      "Epoch 29/30\n",
      "34020/34020 [==============================] - 6s 168us/step - loss: 0.0025 - acc: 0.9994 - val_loss: 0.0836 - val_acc: 0.9902\n",
      "\n",
      "Epoch 00029: val_loss did not improve from 0.04296\n",
      "Epoch 30/30\n",
      "34020/34020 [==============================] - 6s 167us/step - loss: 0.0038 - acc: 0.9991 - val_loss: 0.1059 - val_acc: 0.9886\n",
      "\n",
      "Epoch 00030: val_loss did not improve from 0.04296\n"
     ]
    }
   ],
   "source": [
    "history = model.fit(X_train, Y_train, epochs=30, validation_split=0.1, callbacks=callbacks)"
   ]
  },
  {
   "cell_type": "code",
   "execution_count": 0,
   "metadata": {
    "colab": {
     "base_uri": "https://localhost:8080/",
     "height": 34
    },
    "colab_type": "code",
    "id": "JnzEYD0GOZI1",
    "outputId": "c4cad328-7564-476e-b08d-024345cd1185"
   },
   "outputs": [
    {
     "name": "stdout",
     "output_type": "stream",
     "text": [
      "Train: 0.999, Test: 0.991\n"
     ]
    }
   ],
   "source": [
    "# evaluate the model\n",
    "_, train_acc = model.evaluate(X_train, Y_train, verbose=0)\n",
    "_, test_acc = model.evaluate(X_test, Y_test, verbose=0)\n",
    "print('Train: %.3f, Test: %.3f' % (train_acc, test_acc))"
   ]
  },
  {
   "cell_type": "code",
   "execution_count": 0,
   "metadata": {
    "colab": {
     "base_uri": "https://localhost:8080/",
     "height": 269
    },
    "colab_type": "code",
    "id": "tOMoBGo5OeJe",
    "outputId": "806b05a6-9796-4cab-e297-9537740b1007"
   },
   "outputs": [
    {
     "data": {
      "image/png": "[encoded data removed]",
      "text/plain": [
       "<Figure size 432x288 with 1 Axes>"
      ]
     },
     "metadata": {
      "tags": []
     },
     "output_type": "display_data"
    }
   ],
   "source": [
    "# plot training history\n",
    "plt.plot(history.history['loss'], label='train')\n",
    "plt.plot(history.history['val_loss'], label='val')\n",
    "plt.legend()\n",
    "plt.show()"
   ]
  },
  {
   "cell_type": "code",
   "execution_count": 0,
   "metadata": {
    "colab": {},
    "colab_type": "code",
    "id": "C3EHjQ7j82un"
   },
   "outputs": [],
   "source": [
    "# predict results\n",
    "results = model.predict(df_test)\n",
    "# select the index with maximum probability\n",
    "results = np.argmax(results,axis = 1)\n",
    "results = pd.Series(results,name=\"Label\")\n",
    "submit = pd.concat([pd.Series(range(1,28001),name = \"ImageId\"),results],axis = 1)\n",
    "submit.to_csv(\"submission/mnist_predictions.csv\",index=False)"
   ]
  },
  {
   "cell_type": "markdown",
   "metadata": {},
   "source": [
    "<img src=\"submission/mnist_submission.png\" />"
   ]
  },
  {
   "cell_type": "markdown",
   "metadata": {
    "colab_type": "text",
    "id": "RLmKtY89En4i"
   },
   "source": [
    "**Data Augmentation**\n",
    "<br>In order to avoid overfitting that is happening after around 15 epoches, I used data augmentation techniques such as translation along X and Y axis, rotation, resizing etc to increase the amount of data. It will help the model to generalise well.\n",
    "<br>I had to use generators to feed the data to the keras model as large amount of data cannot be loaded in memory at a time. So data will be processed in batches fed by the generator."
   ]
  },
  {
   "cell_type": "code",
   "execution_count": 89,
   "metadata": {
    "colab": {
     "base_uri": "https://localhost:8080/",
     "height": 51
    },
    "colab_type": "code",
    "id": "HkS8FjYp_2gi",
    "outputId": "421f48bd-832f-466e-839a-c0adea8d7033"
   },
   "outputs": [
    {
     "name": "stdout",
     "output_type": "stream",
     "text": [
      "train_end:  37800.0\n",
      "val_end:  42000.0\n"
     ]
    }
   ],
   "source": [
    "#Split the training data to 3 parts- training data, validation data(0.1) and test data(0.1)\n",
    "#Copy the data to 3 different files- training_data.csv, validation_data.csv, testing_data.csv\n",
    "from itertools import islice\n",
    "def copy_data(inputPath, destPath, start, end):  \n",
    "  # open data file in read mode \n",
    "  fn = open(inputPath, 'r') \n",
    "    \n",
    "  # open other file in write mode \n",
    "  fn1 = open(destPath, 'w') \n",
    "    \n",
    "  # read the content of the file line by line \n",
    "  cont = fn.readlines() \n",
    "  type(cont) \n",
    "  for i in range(0, len(cont)): \n",
    "      if(i>=start and i<=end): \n",
    "          fn1.write(cont[i]) \n",
    "      else: \n",
    "          pass\n",
    "    \n",
    "  # close all files \n",
    "  fn.close() \n",
    "  fn1.close()\n",
    "\n",
    "# train_end = df.shape[0]*0.8\n",
    "# val_end = train_end + df.shape[0]*0.1\n",
    "# test_end = val_end + df.shape[0]*0.1\n",
    "\n",
    "# print('train_end: ', train_end)\n",
    "# print('val_end: ', val_end)\n",
    "# print('test_end: ', test_end)\n",
    "\n",
    "train_end = df.shape[0]*0.9\n",
    "val_end = train_end + df.shape[0]*0.1\n",
    "\n",
    "print('train_end: ', train_end)\n",
    "print('val_end: ', val_end)"
   ]
  },
  {
   "cell_type": "code",
   "execution_count": 0,
   "metadata": {
    "colab": {},
    "colab_type": "code",
    "id": "2xslqF6tD3EK"
   },
   "outputs": [],
   "source": [
    "train_csv = 'dataset/train.csv'\n",
    "training_data_path = 'dataset/training_data.csv'\n",
    "validation_data_path = 'dataset/validation_data.csv'\n",
    "testing_data_path = 'dataset/testing_data.csv'"
   ]
  },
  {
   "cell_type": "code",
   "execution_count": 0,
   "metadata": {
    "colab": {},
    "colab_type": "code",
    "id": "1t1t9Y8BFUrG"
   },
   "outputs": [],
   "source": [
    "copy_data(train_csv,training_data_path, 1, train_end)\n",
    "copy_data(train_csv,validation_data_path, train_end+1, val_end)\n",
    "# copy_data(train_csv,testing_data_path, val_end+1, test_end)"
   ]
  },
  {
   "cell_type": "markdown",
   "metadata": {
    "colab_type": "text",
    "id": "wxv0eN6b8137"
   },
   "source": [
    "Pick up some all from training data and apply the following:\n",
    "<br>1. Rotating image by an angle between (0-30)deg randomly and zoom by 10%\n",
    "<br>2. Shift the image horizontally by 10% of the width \n",
    "<br>3. Shift the image vertically by 10% of the height"
   ]
  },
  {
   "cell_type": "code",
   "execution_count": 0,
   "metadata": {
    "colab": {},
    "colab_type": "code",
    "id": "kTntpkvCZscb"
   },
   "outputs": [],
   "source": [
    "#Data augmentation using opencv\n",
    "import cv2\n",
    "def rotate_image(image, angle, scale):\n",
    "  # plt.subplot(1, 2, 1)\n",
    "  # plt.imshow(image, cmap='Greys', interpolation=None)\n",
    "  # plt.title('Augmentation')\n",
    "  # plt.ylabel('Original')\n",
    "  \n",
    "  w = image.shape[1]\n",
    "  h = image.shape[0]\n",
    "  #rotate matrix\n",
    "  M = cv2.getRotationMatrix2D((w/2,h/2), angle, scale)\n",
    "  #rotate\n",
    "  image = cv2.warpAffine(image,M,(w,h))\n",
    "\n",
    "  # plt.subplot(1, 2, 2)\n",
    "  # plt.imshow(image, cmap='Greys', interpolation=None)\n",
    "  # plt.ylabel('Rotated')\n",
    "  # plt.show()\n",
    "  image = (image.reshape(28,28,1))/255.0\n",
    "\n",
    "  return image\n",
    "\n",
    "def translate_in_X(image, tx):\n",
    "  # plt.subplot(1, 2, 1)\n",
    "  # plt.imshow(image, cmap='Greys', interpolation=None)\n",
    "  # plt.title('Augmentation')\n",
    "  # plt.ylabel('Original')\n",
    "  rows,cols = image.shape\n",
    "  M = np.float32([[1,0,tx],[0,1,0]])\n",
    "  # print(\"m: \", M)\n",
    "  image = cv2.warpAffine(image,M,(cols,rows))\n",
    "\n",
    "  # plt.subplot(1, 2, 2)\n",
    "  # plt.imshow(image, cmap='Greys', interpolation=None)\n",
    "  # plt.ylabel('Rotated')\n",
    "  # plt.show()\n",
    "  image = (image.reshape(28,28,1))/255.0\n",
    "  return image\n",
    "\n",
    "def translate_in_Y(image, ty):\n",
    "  rows,cols = image.shape\n",
    "  M = np.float32([[1,0,0],[0,1,ty]])\n",
    "  image = cv2.warpAffine(image,M,(cols,rows))\n",
    "  image = (image.reshape(28,28,1))/255.0\n",
    "  return image"
   ]
  },
  {
   "cell_type": "code",
   "execution_count": 48,
   "metadata": {
    "colab": {
     "base_uri": "https://localhost:8080/",
     "height": 34
    },
    "colab_type": "code",
    "id": "_242wpGGbHHs",
    "outputId": "d01f3e5b-fdc2-42a7-c8ec-52048d8c4b7f"
   },
   "outputs": [
    {
     "name": "stdout",
     "output_type": "stream",
     "text": [
      "(28, 28, 1)\n"
     ]
    }
   ],
   "source": [
    "f = open(training_data_path, \"r\")\n",
    "line = f.readline()\n",
    "line = line.strip().split(\",\")\n",
    "image = np.asfarray(line[1:]).reshape(28,28)\n",
    "image = translate_in_X(image,1)\n",
    "image = image.reshape(28,28,1)\n",
    "print(image.shape)"
   ]
  },
  {
   "cell_type": "code",
   "execution_count": 0,
   "metadata": {
    "colab": {},
    "colab_type": "code",
    "id": "YxysnTXSDutu"
   },
   "outputs": [],
   "source": [
    "import random\n",
    "def augment_data(image):\n",
    "  images = []\n",
    "  angle = random.uniform(0,30)\n",
    "  scale = random.uniform(1,2)\n",
    "  tx = random.uniform(0,3)\n",
    "  ty = random.uniform(0,3)\n",
    "  images.append(rotate_image(image, random.uniform(0,30), random.uniform(1,2)))\n",
    "  images.append(rotate_image(image, random.uniform(0,30), random.uniform(1,2)))\n",
    "  images.append(rotate_image(image, random.uniform(0,30), random.uniform(1,2)))\n",
    "  images.append(translate_in_X(image, tx))\n",
    "  images.append(translate_in_Y(image, ty))\n",
    "  return images"
   ]
  },
  {
   "cell_type": "code",
   "execution_count": 0,
   "metadata": {
    "colab": {},
    "colab_type": "code",
    "id": "Do5JIEjPBATC"
   },
   "outputs": [],
   "source": [
    "#Image generator\n",
    "def csv_to_image_generator(dataPath, batch_size, mode):\n",
    "\n",
    "  #Open the csv file in read mode\n",
    "  f = open(dataPath, \"r\")\n",
    "  while True:\n",
    "    images = []\n",
    "    labels = []\n",
    "\n",
    "    while len(images) < batch_size:\n",
    "      line = f.readline()\n",
    "      \n",
    "      if line == \"\":\n",
    "        f.seek(0)\n",
    "        line = f.readline()\n",
    "\n",
    "      line = line.strip().split(\",\")\n",
    "      tmp = [0 for i in range(10)]\n",
    "      tmp[int(line[0])] = 1\n",
    "\n",
    "      image = (np.asfarray(line[1:]).reshape(28,28))\n",
    "      if mode=='train':\n",
    "        images += augment_data(image)\n",
    "        for i in range(0,5): \n",
    "          labels.append(tmp)\n",
    "\n",
    "      image = (image.reshape(28,28,1)) / 255.0\n",
    "      \n",
    "      #print(\"shape:\",np.shape(image))\n",
    "      #print(\"shape of tmp:\", np.shape(tmp))\n",
    "      images.append(image)\n",
    "      labels.append(tmp)\n",
    "\n",
    "    #print(\"shape of images:\", np.shape(images))\n",
    "    #print(\"shape of labels:\", np.shape(labels)) \n",
    "    yield(np.array(images), np.array(labels))"
   ]
  },
  {
   "cell_type": "code",
   "execution_count": 0,
   "metadata": {
    "colab": {},
    "colab_type": "code",
    "id": "hfdaWaZ-e0Xs"
   },
   "outputs": [],
   "source": [
    "#Testing image generator\n",
    "def csv_to_image_test_generator(dataPath, batch_size, mode):\n",
    "\n",
    "  #Open the csv file in read mode\n",
    "  f = open(dataPath, \"r\")\n",
    "  _ = f.readline()\n",
    "  while True:\n",
    "    images = []\n",
    "\n",
    "    while len(images) < batch_size:\n",
    "      line = f.readline()\n",
    "      \n",
    "      if line == \"\":\n",
    "        f.seek(0)\n",
    "        _ = f.readline()\n",
    "        line = f.readline()\n",
    "\n",
    "      line = line.strip().split(\",\")\n",
    "      image = (np.asfarray(line).reshape(28,28,1))/255.0\n",
    "      \n",
    "      #print(\"shape:\",np.shape(image))\n",
    "      #print(\"shape of tmp:\", np.shape(tmp))\n",
    "      images.append(image)\n",
    "\n",
    "    #print(\"shape of images:\", np.shape(images))\n",
    "    #print(\"shape of labels:\", np.shape(labels)) \n",
    "    yield(np.array(images))"
   ]
  },
  {
   "cell_type": "code",
   "execution_count": 0,
   "metadata": {
    "colab": {},
    "colab_type": "code",
    "id": "tGAa2lWpSTJN"
   },
   "outputs": [],
   "source": [
    "train_data = 'dataset/training_data.csv'\n",
    "val_data = 'dataset/validation_data.csv'\n",
    "# test_data = '/content/drive/My Drive/Colab Notebooks/digit-recognizer/testing_data.csv'\n",
    "batch_size = 32\n",
    "train_gen = csv_to_image_generator(train_data, batch_size, 'train')\n",
    "val_gen = csv_to_image_generator(val_data, batch_size, None)\n"
   ]
  },
  {
   "cell_type": "code",
   "execution_count": 0,
   "metadata": {
    "colab": {},
    "colab_type": "code",
    "id": "_DBq7l9dU5Ky"
   },
   "outputs": [],
   "source": [
    "from keras.layers import BatchNormalization"
   ]
  },
  {
   "cell_type": "code",
   "execution_count": 0,
   "metadata": {
    "colab": {},
    "colab_type": "code",
    "id": "1naXhNKIRngE"
   },
   "outputs": [],
   "source": [
    "#Model-2\n",
    "model2 = Sequential()\n",
    "model2.add(Conv2D(32, kernel_size=3, activation='relu', input_shape=(28, 28, 1), padding='same'))\n",
    "model2.add(Conv2D(64, kernel_size=3, activation='relu', padding='same'))\n",
    "model2.add(MaxPool2D(pool_size=(2,2)))\n",
    "model2.add(BatchNormalization(axis=-1))\n",
    "#model.add(Dropout(0.5))\n",
    "\n",
    "model2.add(Conv2D(128, kernel_size=3, activation='relu', padding='same'))\n",
    "model2.add(Conv2D(128, kernel_size=3, activation='relu', padding='same'))\n",
    "model2.add(MaxPool2D(pool_size=(2,2)))\n",
    "model2.add(BatchNormalization(axis=-1))\n",
    "#model.add(Dropout(0.5))\n",
    "model2.add(Flatten())\n",
    "model2.add(Dense(256, activation = \"relu\"))\n",
    "model.add(Dropout(0.5))\n",
    "model2.add(Dense(10, activation='softmax'))"
   ]
  },
  {
   "cell_type": "code",
   "execution_count": 98,
   "metadata": {
    "colab": {
     "base_uri": "https://localhost:8080/",
     "height": 527
    },
    "colab_type": "code",
    "id": "PCMdzjzZRn1U",
    "outputId": "e71eb0dc-2f47-42b0-b24f-edfd3e7c8ab5"
   },
   "outputs": [
    {
     "name": "stdout",
     "output_type": "stream",
     "text": [
      "Model: \"sequential_7\"\n",
      "_________________________________________________________________\n",
      "Layer (type)                 Output Shape              Param #   \n",
      "=================================================================\n",
      "conv2d_26 (Conv2D)           (None, 28, 28, 32)        320       \n",
      "_________________________________________________________________\n",
      "conv2d_27 (Conv2D)           (None, 28, 28, 64)        18496     \n",
      "_________________________________________________________________\n",
      "max_pooling2d_18 (MaxPooling (None, 14, 14, 64)        0         \n",
      "_________________________________________________________________\n",
      "batch_normalization_3 (Batch (None, 14, 14, 64)        256       \n",
      "_________________________________________________________________\n",
      "conv2d_28 (Conv2D)           (None, 14, 14, 128)       73856     \n",
      "_________________________________________________________________\n",
      "conv2d_29 (Conv2D)           (None, 14, 14, 128)       147584    \n",
      "_________________________________________________________________\n",
      "max_pooling2d_19 (MaxPooling (None, 7, 7, 128)         0         \n",
      "_________________________________________________________________\n",
      "batch_normalization_4 (Batch (None, 7, 7, 128)         512       \n",
      "_________________________________________________________________\n",
      "flatten_7 (Flatten)          (None, 6272)              0         \n",
      "_________________________________________________________________\n",
      "dense_13 (Dense)             (None, 256)               1605888   \n",
      "_________________________________________________________________\n",
      "dense_14 (Dense)             (None, 10)                2570      \n",
      "=================================================================\n",
      "Total params: 1,849,482\n",
      "Trainable params: 1,849,098\n",
      "Non-trainable params: 384\n",
      "_________________________________________________________________\n"
     ]
    }
   ],
   "source": [
    "model2.compile(optimizer='adam', loss='categorical_crossentropy', metrics=['accuracy'])\n",
    "model2.summary()"
   ]
  },
  {
   "cell_type": "code",
   "execution_count": 0,
   "metadata": {
    "colab": {},
    "colab_type": "code",
    "id": "2SVuI4bqSkZn"
   },
   "outputs": [],
   "source": [
    "callbacks = [ModelCheckpoint('model/best_with_gen.h5', monitor='val_loss', verbose=1, save_best_only=True, save_weights_only=False)]"
   ]
  },
  {
   "cell_type": "code",
   "execution_count": 100,
   "metadata": {
    "colab": {
     "base_uri": "https://localhost:8080/",
     "height": 1000
    },
    "colab_type": "code",
    "id": "31ZKDHgEJlVu",
    "outputId": "d1c0310d-9b34-43c4-ed9e-901bbb4b81b3"
   },
   "outputs": [
    {
     "name": "stdout",
     "output_type": "stream",
     "text": [
      "Epoch 1/50\n",
      "1181/1181 [==============================] - 16s 13ms/step - loss: 0.3020 - acc: 0.9140 - val_loss: 0.2365 - val_acc: 0.9506\n",
      "\n",
      "Epoch 00001: val_loss improved from inf to 0.23646, saving model to /content/drive/My Drive/Colab Notebooks/digit-recognizer/best_with_gen.h5\n",
      "Epoch 2/50\n",
      "1181/1181 [==============================] - 14s 12ms/step - loss: 0.1486 - acc: 0.9574 - val_loss: 0.1048 - val_acc: 0.9678\n",
      "\n",
      "Epoch 00002: val_loss improved from 0.23646 to 0.10483, saving model to /content/drive/My Drive/Colab Notebooks/digit-recognizer/best_with_gen.h5\n",
      "Epoch 3/50\n",
      "1181/1181 [==============================] - 14s 12ms/step - loss: 0.1041 - acc: 0.9699 - val_loss: 0.0968 - val_acc: 0.9714\n",
      "\n",
      "Epoch 00003: val_loss improved from 0.10483 to 0.09679, saving model to /content/drive/My Drive/Colab Notebooks/digit-recognizer/best_with_gen.h5\n",
      "Epoch 4/50\n",
      "1181/1181 [==============================] - 14s 12ms/step - loss: 0.0961 - acc: 0.9721 - val_loss: 0.0536 - val_acc: 0.9862\n",
      "\n",
      "Epoch 00004: val_loss improved from 0.09679 to 0.05365, saving model to /content/drive/My Drive/Colab Notebooks/digit-recognizer/best_with_gen.h5\n",
      "Epoch 5/50\n",
      "1181/1181 [==============================] - 14s 12ms/step - loss: 0.0836 - acc: 0.9747 - val_loss: 0.0516 - val_acc: 0.9866\n",
      "\n",
      "Epoch 00005: val_loss improved from 0.05365 to 0.05158, saving model to /content/drive/My Drive/Colab Notebooks/digit-recognizer/best_with_gen.h5\n",
      "Epoch 6/50\n",
      "1181/1181 [==============================] - 14s 12ms/step - loss: 0.0858 - acc: 0.9762 - val_loss: 0.0594 - val_acc: 0.9843\n",
      "\n",
      "Epoch 00006: val_loss did not improve from 0.05158\n",
      "Epoch 7/50\n",
      "1181/1181 [==============================] - 14s 12ms/step - loss: 0.0671 - acc: 0.9811 - val_loss: 0.0345 - val_acc: 0.9895\n",
      "\n",
      "Epoch 00007: val_loss improved from 0.05158 to 0.03451, saving model to /content/drive/My Drive/Colab Notebooks/digit-recognizer/best_with_gen.h5\n",
      "Epoch 8/50\n",
      "1181/1181 [==============================] - 14s 12ms/step - loss: 0.0705 - acc: 0.9800 - val_loss: 0.0344 - val_acc: 0.9890\n",
      "\n",
      "Epoch 00008: val_loss improved from 0.03451 to 0.03443, saving model to /content/drive/My Drive/Colab Notebooks/digit-recognizer/best_with_gen.h5\n",
      "Epoch 9/50\n",
      "1181/1181 [==============================] - 15s 12ms/step - loss: 0.0587 - acc: 0.9836 - val_loss: 0.0393 - val_acc: 0.9869\n",
      "\n",
      "Epoch 00009: val_loss did not improve from 0.03443\n",
      "Epoch 10/50\n",
      "1181/1181 [==============================] - 15s 13ms/step - loss: 0.0522 - acc: 0.9843 - val_loss: 0.0305 - val_acc: 0.9921\n",
      "\n",
      "Epoch 00010: val_loss improved from 0.03443 to 0.03047, saving model to /content/drive/My Drive/Colab Notebooks/digit-recognizer/best_with_gen.h5\n",
      "Epoch 11/50\n",
      "1181/1181 [==============================] - 15s 12ms/step - loss: 0.0491 - acc: 0.9860 - val_loss: 0.0365 - val_acc: 0.9900\n",
      "\n",
      "Epoch 00011: val_loss did not improve from 0.03047\n",
      "Epoch 12/50\n",
      "1181/1181 [==============================] - 14s 12ms/step - loss: 0.0457 - acc: 0.9867 - val_loss: 0.0581 - val_acc: 0.9864\n",
      "\n",
      "Epoch 00012: val_loss did not improve from 0.03047\n",
      "Epoch 13/50\n",
      "1181/1181 [==============================] - 15s 12ms/step - loss: 0.0535 - acc: 0.9847 - val_loss: 0.0522 - val_acc: 0.9871\n",
      "\n",
      "Epoch 00013: val_loss did not improve from 0.03047\n",
      "Epoch 14/50\n",
      "1181/1181 [==============================] - 15s 12ms/step - loss: 0.0416 - acc: 0.9874 - val_loss: 0.0418 - val_acc: 0.9909\n",
      "\n",
      "Epoch 00014: val_loss did not improve from 0.03047\n",
      "Epoch 15/50\n",
      "1181/1181 [==============================] - 14s 12ms/step - loss: 0.0429 - acc: 0.9880 - val_loss: 0.0315 - val_acc: 0.9909\n",
      "\n",
      "Epoch 00015: val_loss did not improve from 0.03047\n",
      "Epoch 16/50\n",
      "1181/1181 [==============================] - 15s 12ms/step - loss: 0.0408 - acc: 0.9884 - val_loss: 0.0669 - val_acc: 0.9845\n",
      "\n",
      "Epoch 00016: val_loss did not improve from 0.03047\n",
      "Epoch 17/50\n",
      "1181/1181 [==============================] - 14s 12ms/step - loss: 0.0379 - acc: 0.9887 - val_loss: 0.0277 - val_acc: 0.9933\n",
      "\n",
      "Epoch 00017: val_loss improved from 0.03047 to 0.02774, saving model to /content/drive/My Drive/Colab Notebooks/digit-recognizer/best_with_gen.h5\n",
      "Epoch 18/50\n",
      "1181/1181 [==============================] - 15s 12ms/step - loss: 0.0343 - acc: 0.9899 - val_loss: 0.0287 - val_acc: 0.9917\n",
      "\n",
      "Epoch 00018: val_loss did not improve from 0.02774\n",
      "Epoch 19/50\n",
      "1181/1181 [==============================] - 15s 12ms/step - loss: 0.0393 - acc: 0.9889 - val_loss: 0.0413 - val_acc: 0.9909\n",
      "\n",
      "Epoch 00019: val_loss did not improve from 0.02774\n",
      "Epoch 20/50\n",
      "1181/1181 [==============================] - 14s 12ms/step - loss: 0.0364 - acc: 0.9901 - val_loss: 0.0439 - val_acc: 0.9883\n",
      "\n",
      "Epoch 00020: val_loss did not improve from 0.02774\n",
      "Epoch 21/50\n",
      "1181/1181 [==============================] - 14s 12ms/step - loss: 0.0244 - acc: 0.9919 - val_loss: 0.0329 - val_acc: 0.9921\n",
      "\n",
      "Epoch 00021: val_loss did not improve from 0.02774\n",
      "Epoch 22/50\n",
      "1181/1181 [==============================] - 15s 12ms/step - loss: 0.0302 - acc: 0.9914 - val_loss: 0.0393 - val_acc: 0.9895\n",
      "\n",
      "Epoch 00022: val_loss did not improve from 0.02774\n",
      "Epoch 23/50\n",
      "1181/1181 [==============================] - 14s 12ms/step - loss: 0.0242 - acc: 0.9924 - val_loss: 0.0382 - val_acc: 0.9905\n",
      "\n",
      "Epoch 00023: val_loss did not improve from 0.02774\n",
      "Epoch 24/50\n",
      "1181/1181 [==============================] - 14s 12ms/step - loss: 0.0332 - acc: 0.9909 - val_loss: 0.0482 - val_acc: 0.9888\n",
      "\n",
      "Epoch 00024: val_loss did not improve from 0.02774\n",
      "Epoch 25/50\n",
      "1181/1181 [==============================] - 15s 12ms/step - loss: 0.0297 - acc: 0.9915 - val_loss: 0.0587 - val_acc: 0.9850\n",
      "\n",
      "Epoch 00025: val_loss did not improve from 0.02774\n",
      "Epoch 26/50\n",
      "1181/1181 [==============================] - 15s 12ms/step - loss: 0.0200 - acc: 0.9939 - val_loss: 0.0346 - val_acc: 0.9936\n",
      "\n",
      "Epoch 00026: val_loss did not improve from 0.02774\n",
      "Epoch 27/50\n",
      "1181/1181 [==============================] - 15s 12ms/step - loss: 0.0250 - acc: 0.9933 - val_loss: 0.0429 - val_acc: 0.9924\n",
      "\n",
      "Epoch 00027: val_loss did not improve from 0.02774\n",
      "Epoch 28/50\n",
      "1181/1181 [==============================] - 14s 12ms/step - loss: 0.0264 - acc: 0.9924 - val_loss: 0.0378 - val_acc: 0.9921\n",
      "\n",
      "Epoch 00028: val_loss did not improve from 0.02774\n",
      "Epoch 29/50\n",
      "1181/1181 [==============================] - 14s 12ms/step - loss: 0.0289 - acc: 0.9922 - val_loss: 0.0375 - val_acc: 0.9921\n",
      "\n",
      "Epoch 00029: val_loss did not improve from 0.02774\n",
      "Epoch 30/50\n",
      "1181/1181 [==============================] - 15s 12ms/step - loss: 0.0216 - acc: 0.9937 - val_loss: 0.0395 - val_acc: 0.9924\n",
      "\n",
      "Epoch 00030: val_loss did not improve from 0.02774\n",
      "Epoch 31/50\n",
      "1181/1181 [==============================] - 15s 12ms/step - loss: 0.0253 - acc: 0.9925 - val_loss: 0.0393 - val_acc: 0.9933\n",
      "\n",
      "Epoch 00031: val_loss did not improve from 0.02774\n",
      "Epoch 32/50\n",
      "1181/1181 [==============================] - 15s 12ms/step - loss: 0.0216 - acc: 0.9948 - val_loss: 0.0278 - val_acc: 0.9931\n",
      "\n",
      "Epoch 00032: val_loss did not improve from 0.02774\n",
      "Epoch 33/50\n",
      "1181/1181 [==============================] - 14s 12ms/step - loss: 0.0210 - acc: 0.9938 - val_loss: 0.0293 - val_acc: 0.9933\n",
      "\n",
      "Epoch 00033: val_loss did not improve from 0.02774\n",
      "Epoch 34/50\n",
      "1181/1181 [==============================] - 15s 12ms/step - loss: 0.0211 - acc: 0.9938 - val_loss: 0.0387 - val_acc: 0.9936\n",
      "\n",
      "Epoch 00034: val_loss did not improve from 0.02774\n",
      "Epoch 35/50\n",
      "1181/1181 [==============================] - 15s 12ms/step - loss: 0.0235 - acc: 0.9935 - val_loss: 0.0379 - val_acc: 0.9912\n",
      "\n",
      "Epoch 00035: val_loss did not improve from 0.02774\n",
      "Epoch 36/50\n",
      "1181/1181 [==============================] - 14s 12ms/step - loss: 0.0251 - acc: 0.9933 - val_loss: 0.0457 - val_acc: 0.9912\n",
      "\n",
      "Epoch 00036: val_loss did not improve from 0.02774\n",
      "Epoch 37/50\n",
      "1181/1181 [==============================] - 14s 12ms/step - loss: 0.0149 - acc: 0.9952 - val_loss: 0.0358 - val_acc: 0.9924\n",
      "\n",
      "Epoch 00037: val_loss did not improve from 0.02774\n",
      "Epoch 38/50\n",
      "1181/1181 [==============================] - 14s 12ms/step - loss: 0.0246 - acc: 0.9931 - val_loss: 0.0385 - val_acc: 0.9926\n",
      "\n",
      "Epoch 00038: val_loss did not improve from 0.02774\n",
      "Epoch 39/50\n",
      "1181/1181 [==============================] - 14s 12ms/step - loss: 0.0154 - acc: 0.9956 - val_loss: 0.0292 - val_acc: 0.9950\n",
      "\n",
      "Epoch 00039: val_loss did not improve from 0.02774\n",
      "Epoch 40/50\n",
      "1181/1181 [==============================] - 15s 12ms/step - loss: 0.0235 - acc: 0.9938 - val_loss: 0.0469 - val_acc: 0.9893\n",
      "\n",
      "Epoch 00040: val_loss did not improve from 0.02774\n",
      "Epoch 41/50\n",
      "1181/1181 [==============================] - 14s 12ms/step - loss: 0.0218 - acc: 0.9938 - val_loss: 0.0346 - val_acc: 0.9928\n",
      "\n",
      "Epoch 00041: val_loss did not improve from 0.02774\n",
      "Epoch 42/50\n",
      "1181/1181 [==============================] - 14s 12ms/step - loss: 0.0173 - acc: 0.9945 - val_loss: 0.0322 - val_acc: 0.9919\n",
      "\n",
      "Epoch 00042: val_loss did not improve from 0.02774\n",
      "Epoch 43/50\n",
      "1181/1181 [==============================] - 14s 12ms/step - loss: 0.0187 - acc: 0.9951 - val_loss: 0.0435 - val_acc: 0.9907\n",
      "\n",
      "Epoch 00043: val_loss did not improve from 0.02774\n",
      "Epoch 44/50\n",
      "1181/1181 [==============================] - 14s 12ms/step - loss: 0.0170 - acc: 0.9944 - val_loss: 0.0406 - val_acc: 0.9919\n",
      "\n",
      "Epoch 00044: val_loss did not improve from 0.02774\n",
      "Epoch 45/50\n",
      "1181/1181 [==============================] - 15s 12ms/step - loss: 0.0218 - acc: 0.9939 - val_loss: 0.0257 - val_acc: 0.9948\n",
      "\n",
      "Epoch 00045: val_loss improved from 0.02774 to 0.02571, saving model to /content/drive/My Drive/Colab Notebooks/digit-recognizer/best_with_gen.h5\n",
      "Epoch 46/50\n",
      "1181/1181 [==============================] - 14s 12ms/step - loss: 0.0161 - acc: 0.9948 - val_loss: 0.0386 - val_acc: 0.9931\n",
      "\n",
      "Epoch 00046: val_loss did not improve from 0.02571\n",
      "Epoch 47/50\n",
      "1181/1181 [==============================] - 14s 12ms/step - loss: 0.0188 - acc: 0.9944 - val_loss: 0.0243 - val_acc: 0.9945\n",
      "\n",
      "Epoch 00047: val_loss improved from 0.02571 to 0.02433, saving model to /content/drive/My Drive/Colab Notebooks/digit-recognizer/best_with_gen.h5\n",
      "Epoch 48/50\n",
      "1181/1181 [==============================] - 14s 12ms/step - loss: 0.0157 - acc: 0.9960 - val_loss: 0.0407 - val_acc: 0.9900\n",
      "\n",
      "Epoch 00048: val_loss did not improve from 0.02433\n",
      "Epoch 49/50\n",
      "1181/1181 [==============================] - 14s 12ms/step - loss: 0.0150 - acc: 0.9954 - val_loss: 0.0360 - val_acc: 0.9933\n",
      "\n",
      "Epoch 00049: val_loss did not improve from 0.02433\n",
      "Epoch 50/50\n",
      "1181/1181 [==============================] - 14s 12ms/step - loss: 0.0134 - acc: 0.9964 - val_loss: 0.0330 - val_acc: 0.9945\n",
      "\n",
      "Epoch 00050: val_loss did not improve from 0.02433\n"
     ]
    }
   ],
   "source": [
    "history = model2.fit_generator(train_gen, steps_per_epoch=train_end//batch_size, validation_data=val_gen, validation_steps= (val_end-train_end)// batch_size, epochs=50, callbacks=callbacks)"
   ]
  },
  {
   "cell_type": "code",
   "execution_count": 102,
   "metadata": {
    "colab": {
     "base_uri": "https://localhost:8080/",
     "height": 265
    },
    "colab_type": "code",
    "id": "1pEiMSR7PRu4",
    "outputId": "e62ee248-988a-4b52-dc21-accc46656e03"
   },
   "outputs": [
    {
     "data": {
      "image/png": "[encoded data removed]",
      "text/plain": [
       "<Figure size 432x288 with 1 Axes>"
      ]
     },
     "metadata": {
      "tags": []
     },
     "output_type": "display_data"
    }
   ],
   "source": [
    "# plot training history\n",
    "plt.plot(history.history['loss'], label='train')\n",
    "plt.plot(history.history['val_loss'], label='val')\n",
    "plt.legend()\n",
    "plt.show()"
   ]
  },
  {
   "cell_type": "code",
   "execution_count": 0,
   "metadata": {
    "colab": {},
    "colab_type": "code",
    "id": "ZhFyhIQjP7c4"
   },
   "outputs": [],
   "source": [
    "# predict results\n",
    "testing_data = '../dataset/test.csv'\n",
    "test_gen = csv_to_image_test_generator(testing_data, batch_size, None)\n",
    "results = model2.predict_generator(test_gen, steps=df_test.shape[0]//batch_size)\n",
    "# select the index with maximum probability\n",
    "results = np.argmax(results,axis = 1)\n",
    "results = pd.Series(results,name=\"Label\")\n",
    "submit = pd.concat([pd.Series(range(1,28001),name = \"ImageId\"),results],axis = 1)\n",
    "submit.to_csv(\"submission/mnist_predictions_using_gen.csv\",index=False)"
   ]
  },
  {
   "cell_type": "markdown",
   "metadata": {
    "colab": {},
    "colab_type": "code",
    "id": "fcErg-BuepuB"
   },
   "source": [
    "<img src='submission/mnist_submission_2.png' />"
   ]
  },
  {
   "cell_type": "code",
   "execution_count": null,
   "metadata": {},
   "outputs": [],
   "source": []
  }
 ],
 "metadata": {
  "accelerator": "GPU",
  "colab": {
   "collapsed_sections": [],
   "name": "digit-recognizer",
   "provenance": []
  },
  "kernelspec": {
   "display_name": "Python 3",
   "language": "python",
   "name": "python3"
  },
  "language_info": {
   "codemirror_mode": {
    "name": "ipython",
    "version": 3
   },
   "file_extension": ".py",
   "mimetype": "text/x-python",
   "name": "python",
   "nbconvert_exporter": "python",
   "pygments_lexer": "ipython3",
   "version": "3.7.4"
  }
 },
 "nbformat": 4,
 "nbformat_minor": 1
}
